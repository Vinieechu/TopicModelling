{
 "cells": [
  {
   "cell_type": "markdown",
   "metadata": {},
   "source": [
    "# Topic Modelling\n",
    "---\n",
    "\n",
    "## Introduction\n",
    "\n",
    "Text Analysis is used for summarizing or getting useful information out of a large amount of unstructured text stored in documents. This opens up the opportunity of using text data alongside more conventional data sources (e.g, surveys and administrative data). The goal of text analysis is to take a large corpus of complex and unstructured text data and extract important and meaningful messages in a comprehensible meaningful way. \n",
    "\n",
    "\n",
    "Text Analysis can help with the following tasks:\n",
    "\n",
    "* **Informationan retrieval**: Help find relevant information in large databases such as a systematic literature review. \n",
    "\n",
    "* **Clustering and text categorization**: Techniques like topic modeling can summarize a large corpus of text by finding the most important phrases. \n",
    "\n",
    "* **Text Summarization**: Create category-sensitive text summaries of a large corpus of text. \n",
    "\n",
    "* **Machine Translation**: Translate from one language to another. \n",
    "\n",
    "In this tutorial, we are going to analyze job advertisements from 2010-2015 using topic modeling to examine the content of our data and document classification to tag the type of job in the advertisement. First we will go over how to transform our data into a matrix that can be read in by an algorithm. \n",
    " \n",
    "\n",
    "\n",
    "## Glossary of Terms\n",
    "\n",
    "* **Corpus**: A corpus of documents is the set of all documents in the dataset.\n",
    "\n",
    "* **Tokenize**: Tokenization is the process by which text is sepearated into meaningful terms or phrases. In english this is fairly triial as words as separated by whitespace. \n",
    "\n",
    "* **Stemming**: Stemming is a type of text normalization where words that have different forms but their essential meaning at the same are normalized to the original dictionary form of a word. For example \"go,\" \"went,\" and \"goes\" all stem from the lemma \"go.\"\n",
    "\n",
    "* **TFIDF**: TFIDF (Term frequency-inverse document frequency) is an example of feature enginnering where the most important words are extracted by taking account their frequency in documents and the entire corpus of documents as a whole.\n",
    "\n",
    "* **Topic Modeling**: Topic modeling is an unsupervised learning method where groups of co-occuring words are clustered into topics. Typically, the words in a cluster should be related and make sense (e.g, boat, ship, captain). Individual documents will then fall into multiple topics. \n",
    "\n",
    "* **LDA**: LDA (latent Dirichlet allocation) is a type of probabilistic model commonly used for topic modelling. \n",
    "\n",
    "* **Stop Words**: Stop words are words that have little semantic meaning like prepositions, articles and common nouns. They can often be ignored. "
   ]
  },
  {
   "cell_type": "code",
   "execution_count": 2,
   "metadata": {},
   "outputs": [
    {
     "name": "stdout",
     "output_type": "stream",
     "text": [
      "Populating the interactive namespace from numpy and matplotlib\n",
      "[nltk_data] Downloading package stopwords to\n",
      "[nltk_data]     C:\\Users\\vinee\\AppData\\Roaming\\nltk_data...\n",
      "[nltk_data]   Package stopwords is already up-to-date!\n"
     ]
    },
    {
     "data": {
      "text/plain": [
       "True"
      ]
     },
     "execution_count": 2,
     "metadata": {},
     "output_type": "execute_result"
    }
   ],
   "source": [
    "%pylab inline \n",
    "import nltk\n",
    "import re\n",
    "import time\n",
    "import progressbar\n",
    "\n",
    "import pandas as pd\n",
    "from __future__ import print_function\n",
    "from six.moves import zip, range \n",
    "\n",
    "from sklearn.feature_extraction.text import CountVectorizer, TfidfTransformer\n",
    "from sklearn.decomposition import LatentDirichletAllocation\n",
    "from sklearn.linear_model import LogisticRegression\n",
    "from sklearn.metrics import precision_recall_curve, roc_auc_score, auc\n",
    "from sklearn import preprocessing\n",
    "from collections import Counter, OrderedDict\n",
    "from nltk.corpus import stopwords\n",
    "from nltk import PorterStemmer\n",
    "from nltk import RegexpTokenizer\n",
    "\n",
    "from gensim import models\n",
    "from gensim.models.doc2vec import LabeledSentence\n",
    "from gensim.models import Doc2Vec\n",
    "\n",
    "nltk.download('stopwords') #download the latest stopwords"
   ]
  },
  {
   "cell_type": "markdown",
   "metadata": {},
   "source": [
    "# Load the Data\n",
    "\n",
    "Our Dataset for this tutorial will be a subset jobs-ad data from 2010-2015 compiled by the Commonwealth of Virginia. The full data and how this subset was created can be found in the data folder in this tutorial."
   ]
  },
  {
   "cell_type": "code",
   "execution_count": 3,
   "metadata": {},
   "outputs": [],
   "source": [
    "jobs_data = pd.read_csv('jobs_subset.csv')"
   ]
  },
  {
   "cell_type": "markdown",
   "metadata": {},
   "source": [
    "# Explore the data"
   ]
  },
  {
   "cell_type": "code",
   "execution_count": 4,
   "metadata": {},
   "outputs": [
    {
     "data": {
      "text/html": [
       "<div>\n",
       "<style scoped>\n",
       "    .dataframe tbody tr th:only-of-type {\n",
       "        vertical-align: middle;\n",
       "    }\n",
       "\n",
       "    .dataframe tbody tr th {\n",
       "        vertical-align: top;\n",
       "    }\n",
       "\n",
       "    .dataframe thead th {\n",
       "        text-align: right;\n",
       "    }\n",
       "</style>\n",
       "<table border=\"1\" class=\"dataframe\">\n",
       "  <thead>\n",
       "    <tr style=\"text-align: right;\">\n",
       "      <th></th>\n",
       "      <th>normalizedTitle_onetName</th>\n",
       "      <th>normalizedTitle_onetCode</th>\n",
       "      <th>jobDescription</th>\n",
       "      <th>title</th>\n",
       "    </tr>\n",
       "  </thead>\n",
       "  <tbody>\n",
       "    <tr>\n",
       "      <th>0</th>\n",
       "      <td>Lawyers</td>\n",
       "      <td>23-1011.00</td>\n",
       "      <td>This position is in support of the United Stat...</td>\n",
       "      <td>Paralegal (Buffalo, NY)</td>\n",
       "    </tr>\n",
       "    <tr>\n",
       "      <th>1</th>\n",
       "      <td>Software Quality Assurance Engineers and Testers</td>\n",
       "      <td>15-1199.01</td>\n",
       "      <td>The successful candidate will maintain and dev...</td>\n",
       "      <td>System Integration / Test Engineer</td>\n",
       "    </tr>\n",
       "    <tr>\n",
       "      <th>2</th>\n",
       "      <td>Software Quality Assurance Engineers and Testers</td>\n",
       "      <td>15-1199.01</td>\n",
       "      <td>This position is a Senior System Integration &amp;...</td>\n",
       "      <td>System Integration / Test Engineer Staff</td>\n",
       "    </tr>\n",
       "    <tr>\n",
       "      <th>3</th>\n",
       "      <td>Software Quality Assurance Engineers and Testers</td>\n",
       "      <td>15-1199.01</td>\n",
       "      <td>In this position, candidates may participate i...</td>\n",
       "      <td>Mult Func Fin Analyst</td>\n",
       "    </tr>\n",
       "    <tr>\n",
       "      <th>4</th>\n",
       "      <td>Software Quality Assurance Engineers and Testers</td>\n",
       "      <td>15-1199.01</td>\n",
       "      <td>This is a business operations analyst position...</td>\n",
       "      <td>Mult Func Fin Analyst</td>\n",
       "    </tr>\n",
       "  </tbody>\n",
       "</table>\n",
       "</div>"
      ],
      "text/plain": [
       "                           normalizedTitle_onetName normalizedTitle_onetCode  \\\n",
       "0                                           Lawyers               23-1011.00   \n",
       "1  Software Quality Assurance Engineers and Testers               15-1199.01   \n",
       "2  Software Quality Assurance Engineers and Testers               15-1199.01   \n",
       "3  Software Quality Assurance Engineers and Testers               15-1199.01   \n",
       "4  Software Quality Assurance Engineers and Testers               15-1199.01   \n",
       "\n",
       "                                      jobDescription  \\\n",
       "0  This position is in support of the United Stat...   \n",
       "1  The successful candidate will maintain and dev...   \n",
       "2  This position is a Senior System Integration &...   \n",
       "3  In this position, candidates may participate i...   \n",
       "4  This is a business operations analyst position...   \n",
       "\n",
       "                                      title  \n",
       "0                   Paralegal (Buffalo, NY)  \n",
       "1        System Integration / Test Engineer  \n",
       "2  System Integration / Test Engineer Staff  \n",
       "3                     Mult Func Fin Analyst  \n",
       "4                     Mult Func Fin Analyst  "
      ]
     },
     "execution_count": 4,
     "metadata": {},
     "output_type": "execute_result"
    }
   ],
   "source": [
    "jobs_data.head()"
   ]
  },
  {
   "cell_type": "markdown",
   "metadata": {},
   "source": [
    "The normalizedTitle_onetName and the normalizedTitle_onetCode are derived from the Onet Database. We wil use the names in the document tagging portion of the tutorial. The jobDescription is the actual jobDescription and the title is derived from the jobDescription."
   ]
  },
  {
   "cell_type": "markdown",
   "metadata": {},
   "source": [
    "# How many unique job titles are in this dataset?"
   ]
  },
  {
   "cell_type": "code",
   "execution_count": 5,
   "metadata": {},
   "outputs": [
    {
     "data": {
      "text/plain": [
       "array(['Paralegal (Buffalo, NY)', 'System Integration / Test Engineer',\n",
       "       'System Integration / Test Engineer Staff', ...,\n",
       "       'JAVA ENGINEER(perm)', 'BSA Analyst', 'AML/KYC Analyst'],\n",
       "      dtype=object)"
      ]
     },
     "execution_count": 5,
     "metadata": {},
     "output_type": "execute_result"
    }
   ],
   "source": [
    "jobs_data.title.unique()"
   ]
  },
  {
   "cell_type": "code",
   "execution_count": 6,
   "metadata": {},
   "outputs": [
    {
     "data": {
      "text/plain": [
       "array(['Lawyers', 'Software Quality Assurance Engineers and Testers',\n",
       "       'Graduate Teaching Assistants', 'Financial Examiners',\n",
       "       'Credit Analysts'], dtype=object)"
      ]
     },
     "execution_count": 6,
     "metadata": {},
     "output_type": "execute_result"
    }
   ],
   "source": [
    "jobs_data.normalizedTitle_onetName.unique()"
   ]
  },
  {
   "cell_type": "markdown",
   "metadata": {},
   "source": [
    "Our dataset has 5 unique job titles assigned by the OneNet. Futhermore it has way more number of titles that are in the title column.\n",
    "\n",
    "We can perfrom text analytics on the Job description to help us discover the most important jobs and phrases in the corpus"
   ]
  },
  {
   "cell_type": "markdown",
   "metadata": {},
   "source": [
    "# Topic Modelling \n",
    "\n",
    "We are going to apply topic modeling, an unsuperivised learning method, to our corpus to find the high-level topics in our corpus as a first-go for exploring our data. As we apply topic modeling we will discuss ways of cleaning and preprocessing our data to get the best results.\n",
    "\n",
    "Topic modeling is a broad subfield of machine learning and natural language processing. We are going to focus on one approach, Latent Dirichlet allocation (LDA). LDA is a fully Bayesian extension of probabilistic latent semantic indexing, itself a probabilistic extension of latent semantic analysis.\n",
    "\n",
    "In topic modeling we first assume the existence of topics in the corpus and that there is a small number of topics that can explain a corpus. Topics, in this case, are a ranked-list of words from our corpus, with the highest probability words at the top. A single document can be explained by multiple topics. For instance, an article on net neutrality has to do with both technology and politics. The set of topics used by a document is known as the document's allocation, hence, the name latent Dirchlet allocation, each document has an allocation of latent topics allocated by Dirchlet distribution."
   ]
  },
  {
   "cell_type": "markdown",
   "metadata": {},
   "source": [
    "# Data Processing \n",
    "\n",
    "Here we will \n",
    "One of the most important step in working with text data is cleaning and processing. This includes but is not limited to forming a corpus of text, tokenization, removing stop-words, finding words colocated together (N-grams), and stemming and lemmatization. Each of these steps will be discussed below. The ultimate goal is to transform our text data into a form of algorithm we can work with. A sequence of symbols cannot be fed directly into an algorithm. Algorithms expect numerical feature vectors with fixed size rather then a document with a variable document length. We will be transforming our text corpus into a bag of n-grams to be further analyzed. In this form our text data is represented as a matrix where each row refers to a specific job description (document) and each column is the occurence of a word (feature)."
   ]
  },
  {
   "cell_type": "markdown",
   "metadata": {},
   "source": [
    "# Bag of n-gram representation example\n",
    "\n",
    "We want to take our collection of documents, corpus, and convert it into a matrix. Fortunately sklearn has a pre-built object,  CountVectorizer, that can tokenize, eliminate stopwords, identify n-grams and stem our corpus, outputing a matrix in one step. \n",
    "We will also use an example and check how it create bag of words before we use it on the dataset|"
   ]
  },
  {
   "cell_type": "code",
   "execution_count": 7,
   "metadata": {},
   "outputs": [],
   "source": [
    "def create_bow(corpus, NGRAM_RANGE = (0,1), stem = False, stop_words = None, MIN_DF = 0.05, MAX_DF = 0.95, USE_IDF = False):\n",
    "    \n",
    "    '''\n",
    "    corpus: out document with the texts\n",
    "    NGRAM_RANGE= The number of word we use as features\n",
    "    stem= bool, whether we want to stem the words\n",
    "    stop_words = list of commonly occuring words that we want to exclude from corpus\n",
    "    MIN_DF = remove the words that occurs less that 5% in the corpus\n",
    "    MAX_DF = remove the words that occurs greater than 95% in the corpus\n",
    "    USE_IDF = bool, whether to invert the document frequency\n",
    "    \n",
    "    RETURN\n",
    "    \n",
    "    bow = and bag of words that is a scipy matrix\n",
    "    features = list of unique words in the corpus\n",
    "    '''\n",
    "    \n",
    "    #parameters to call the vectorizer function\n",
    "    ANALYZER = 'word' #that analyzes a word rather than sentences\n",
    "    STRIP_ACCENTS ='unicode'\n",
    "    \n",
    "    if stem:\n",
    "        tokenizer = lambda x : [stemmer.stem(i) for i in x.split()]\n",
    "    else:\n",
    "        tokenizer = None\n",
    "    vectorizer = CountVectorizer(analyzer=ANALYZER, strip_accents=STRIP_ACCENTS, tokenizer=tokenizer, stop_words=stop_words, max_df=MAX_DF, min_df=MIN_DF, ngram_range=NGRAM_RANGE)\n",
    "    bow = vectorizer.fit_transform(corpus)\n",
    "    features = vectorizer.get_feature_names()\n",
    "    \n",
    "    if USE_IDF:\n",
    "        NORM = None\n",
    "        SMOOTH_IDF = True\n",
    "        SUBLINEAR_TF = True\n",
    "        transformer = TfidfTransformer(norm=NORM, use_idf=USE_IDF, smooth_idf=SMOOTH_IDF, sublinear_tf=SUBLINEAR_TF)\n",
    "        tfidf = transformer.fit_transform(bow)\n",
    "        \n",
    "        return tfidf, features\n",
    "    else:\n",
    "        return bow, features\n",
    "    \n",
    "    \n",
    "    "
   ]
  },
  {
   "cell_type": "code",
   "execution_count": 8,
   "metadata": {},
   "outputs": [],
   "source": [
    "test_sentence = [\"Hi, my name is Vineet\", \"this is a test sentence and i am test it\", 'lets rock this study']"
   ]
  },
  {
   "cell_type": "code",
   "execution_count": 9,
   "metadata": {},
   "outputs": [],
   "source": [
    "test_bow, test_features = create_bow(test_sentence)"
   ]
  },
  {
   "cell_type": "code",
   "execution_count": 10,
   "metadata": {},
   "outputs": [],
   "source": [
    "test_bow2, test_features2 = create_bow(test_sentence, USE_IDF=True)"
   ]
  },
  {
   "cell_type": "code",
   "execution_count": 11,
   "metadata": {},
   "outputs": [
    {
     "data": {
      "text/plain": [
       "array([[0.        , 0.        , 1.69314718, 1.28768207, 0.        ,\n",
       "        0.        , 1.69314718, 1.69314718, 0.        , 0.        ,\n",
       "        0.        , 0.        , 0.        , 1.69314718],\n",
       "       [1.69314718, 1.69314718, 0.        , 1.28768207, 1.69314718,\n",
       "        0.        , 0.        , 0.        , 0.        , 1.69314718,\n",
       "        0.        , 2.86674738, 1.28768207, 0.        ],\n",
       "       [0.        , 0.        , 0.        , 0.        , 0.        ,\n",
       "        1.69314718, 0.        , 0.        , 1.69314718, 0.        ,\n",
       "        1.69314718, 0.        , 1.28768207, 0.        ]])"
      ]
     },
     "execution_count": 11,
     "metadata": {},
     "output_type": "execute_result"
    }
   ],
   "source": [
    "test_bow2.toarray()"
   ]
  },
  {
   "cell_type": "markdown",
   "metadata": {},
   "source": [
    "The counter_vectorizer outputs a matrix. In this case a sparse matrix, a matrix that has a lot more 0s then 1s. To save space scipy has special methods for storing sparse matrices in a space-efficient way rather than saving many many 0s. Now lets print it in an array so we can see the shape and features."
   ]
  },
  {
   "cell_type": "code",
   "execution_count": 12,
   "metadata": {},
   "outputs": [
    {
     "data": {
      "text/plain": [
       "array([[0, 0, 1, 1, 0, 0, 1, 1, 0, 0, 0, 0, 0, 1],\n",
       "       [1, 1, 0, 1, 1, 0, 0, 0, 0, 1, 0, 2, 1, 0],\n",
       "       [0, 0, 0, 0, 0, 1, 0, 0, 1, 0, 1, 0, 1, 0]], dtype=int64)"
      ]
     },
     "execution_count": 12,
     "metadata": {},
     "output_type": "execute_result"
    }
   ],
   "source": [
    "test_bow.toarray()"
   ]
  },
  {
   "cell_type": "code",
   "execution_count": 13,
   "metadata": {},
   "outputs": [
    {
     "data": {
      "text/plain": [
       "['am',\n",
       " 'and',\n",
       " 'hi',\n",
       " 'is',\n",
       " 'it',\n",
       " 'lets',\n",
       " 'my',\n",
       " 'name',\n",
       " 'rock',\n",
       " 'sentence',\n",
       " 'study',\n",
       " 'test',\n",
       " 'this',\n",
       " 'vineet']"
      ]
     },
     "execution_count": 13,
     "metadata": {},
     "output_type": "execute_result"
    }
   ],
   "source": [
    "test_features"
   ]
  },
  {
   "cell_type": "markdown",
   "metadata": {},
   "source": [
    "As you can see above that the list is a feature (the columns in the matrix) and the 1's represent that this particluar word (or feature) is present in the document(which is the row in the above matrix)"
   ]
  },
  {
   "cell_type": "markdown",
   "metadata": {},
   "source": [
    "Now lets count the number of times a word occured in the corpus. We can do this by summing up the features of out bow matrix"
   ]
  },
  {
   "cell_type": "code",
   "execution_count": 14,
   "metadata": {},
   "outputs": [],
   "source": [
    "def word_counts(bag_of_words, feature_names):\n",
    "    \n",
    "    np_bow = bag_of_words.toarray()\n",
    "    word_count = np.sum(np_bow, axis=0)\n",
    "    np_word_count = np.asarray(word_count).ravel()\n",
    "    \n",
    "    dict_word_count = dict(zip(feature_names, np_word_count))\n",
    "\n",
    "    ordered_word_counts = OrderedDict(sorted(dict_word_count.items(), key = lambda x : x[1], reverse=True))\n",
    "    \n",
    "    return ordered_word_counts"
   ]
  },
  {
   "cell_type": "code",
   "execution_count": 15,
   "metadata": {},
   "outputs": [
    {
     "data": {
      "text/plain": [
       "OrderedDict([('is', 2),\n",
       "             ('test', 2),\n",
       "             ('this', 2),\n",
       "             ('sentence', 1),\n",
       "             ('name', 1),\n",
       "             ('rock', 1),\n",
       "             ('hi', 1),\n",
       "             ('lets', 1),\n",
       "             ('it', 1),\n",
       "             ('study', 1),\n",
       "             ('my', 1),\n",
       "             ('vineet', 1),\n",
       "             ('and', 1),\n",
       "             ('am', 1)])"
      ]
     },
     "execution_count": 15,
     "metadata": {},
     "output_type": "execute_result"
    }
   ],
   "source": [
    "word_counts(test_bow, test_features)"
   ]
  },
  {
   "cell_type": "markdown",
   "metadata": {},
   "source": [
    "As you can see above. We successfully created a word counter in the corpus which gives us a nicely arranged dictionary of tuples. \n",
    "\n",
    "Now lets begin working out jobs data. Before beginning, we need to add the jobs description to the numpy list. We can do that using .values attribute"
   ]
  },
  {
   "cell_type": "code",
   "execution_count": 16,
   "metadata": {},
   "outputs": [],
   "source": [
    "corpus = jobs_data.jobDescription.values"
   ]
  },
  {
   "cell_type": "code",
   "execution_count": 17,
   "metadata": {},
   "outputs": [
    {
     "data": {
      "text/plain": [
       "array([\"This position is in support of the United States Attorney's Office in Buffalo, NY located at 138 Delaware Avenue. The estimated length of this assignment is through May 31, 2016 with the possibility of extensions. Overtime and travel may be authorized as needed. The Employee will perform the following tasks, but not limited to: *Serves as a primary resource for the office on all aspects of docketing. *Recommends revisions in office procedures to improve the docketing function by expediting case processing, changing codes for data elements, etc. *Reviews reports to identify recurring errors and trains new employees in the operation and use of the case tracking system. Advises other personnel on appropriate codes for unprecedented cases. Explains the operation of the system and importance of timely information to new attorneys and support staff. *Responsibility for developing/maintaining automated records for the criminal and civil case workload from initial referral to final disposition. *Regularly inputs new information into the database from LIONS coding sheets provided by District Division Chiefs. *Runs regularly scheduled and preprogrammed management reports with the assistance of System Manager. *Requests new or modified reports and/or internal processing procedures to meet perceived changes in the information needs of the office and/or to improve docketing efficiency/effectiveness. *Discusses changes with supervisor. *Maintains a working knowledge of the Districts and Departments docket and reporting procedures in order to assure proper interpretation and data entry of codes. *Assists Legal Assistants and other employees in obtaining information from the database and in interpreting output. *Provides ongoing instruction as to processing requirements. *Receives numerous telephone calls on case status from client agencies, the courts, employees within the office, city, county and state law office, private attorneys and individuals. *Exercises tact, discretion and learned judgment in determining what information and be provided and to whom. *Must be aware of what cases are sensitive and for which no information can be provided. *Perform others duties as necessary. Basic Qualifications *Proven excellent written and oral communication skills. *Paralegal Certificate. An equivalent level of training may be substituted with the approval of the COTR. *At least ONE (1) year of litigation paralegal experience. *Must have basic legal knowledge, including knowledge of standard legal citation system sufficient to perform basic legal research. *Thorough knowledge of legal research tools such as LEXIS and WestLaw. *Should have hands-on familiarity with a variety of computer applications, including word processing, database, spreadsheet, imaging, and telecommunications. *Ability to consistently deliver highest quality of work under extreme pressure will be very important. *Some walking, standing, bending and carrying of small office items *Ability to obtain a security clearance. *Must be a U.S. Citizen. Desired skills *Experience working in a Government and/or Litigation Support environment in conjunction with basic qualifications. *Proficient in Microsoft Office software programs (i.e., Word, Excel, Outlook, MS Access or other data bases), Word Perfect and Adobe Acrobat Professional, strongly preferred. *Experience with docketing processes and procedures. *Attention to detail. *Trial experience, helpful. *Automated litigation support experience (i.e. Concordance, Summation,etc...), very helpful. *Experience with organization and management of documents. *Current or active clearance. As a leading technology innovation company, Lockheed Martins team of 113,000 people works with partners around the world to bring proven performance to our customers toughest challenges. Lockheed Martin has employees based in all 50 states and more than 570 facilities that span 70 countries. Join us at Lockheed Martin, where were engineering a better tomorrow. *Lockheed Martin is an Equal Opportunity/Affirmative Action Employer. All qualified applicants will receive consideration for employment without regard to race, color, religion, sex, pregnancy, sexual orientation, gender identity, national origin, age, protected veteran status, or disability status.* Job Location(s): Buffalo New York\",\n",
       "       \"The successful candidate will maintain and develop electronic production and development test solutions. Provide hands on hardware/software troubleshooting and upgrade support for existing production test stations in a real time environment. Participate in the design, build, integration and validation of automated and manual test equipment. Interpret and understand test requirements, develop/modify test procedures, test reports and other test related documentation. Must be able to interface with the customer during planned meetings and support required presentations. The successful candidate will also have the ability and willingness to on occasion support our Product Support group in maintaining, troubleshooting and servicing electronic fielded equipment. Participate in the integration, installation and validation of fielded equipment. Interpret and understand repair procedures and other repair related documentation. Must be able to interface with the customer during field service trips and internal status meetings. This requires the ability to travel at a moment's notice for 1-2 weeks at a time. Basic Qualifications Ability to function as self-starter. Strong written and oral communication skills. Understanding of engineering fundamentals. test procedure and script development and execution at the system level. Familiarity with test requirement identification/evaluation. Ability to perform effectively in a team environment, interacting with test engineering, test conductors, quality, and production supervisors. A desire to gain direct hands-on hardware/software test experience with automated test systems integration, collecting test data, test analysis, troubleshooting, and anomaly resolution. Ability and willingness to travel frequently. Ability to obtain a secret security clearance. Bachelors degree from an accredited college in a related discipline, or equivalent experience/combined education. Desired skills Knowledge of LabView programming or Pro Engineering with the ability and desire to become proficient. An understanding of schematic development, hands on assembly, software development, integration and troubleshooting. Ability and desire to gain hands on experience with automated test systems including analog, digital and optical test equipment. Familiarity with the MFC-Archbald products would be a benefit. As a leading technology innovation company, Lockheed Martins vast team works with partners around the world to bring proven performance to our customers toughest challenges. Lockheed Martin has employees based in many states throughout the U.S., and Internationally, with business locations in many nations and territories. Join us at Lockheed Martin, where were engineering a better tomorrow. *Lockheed Martin is an Equal Opportunity/Affirmative Action Employer. All qualified applicants will receive consideration for employment without regard to race, color, religion, sex, pregnancy, sexual orientation, gender identity, national origin, age, protected veteran status, or disability status.* Job Location(s): Archbald Pennsylvania\",\n",
       "       'This position is a Senior System Integration & Test Engineer on the RUSH program. The System I&T Engineer will support both the legacy mission management system as well as the transition to operations of new multi-INT capabilities. The successful candidate will develop test plans, procedures, and automated test scripts to verify the system functional and performance requirements and will support enterprise test activities. Applicants selected will be subject to a government security investigation and must meet eligibility requirements for access to classified information. Basic Qualifications - Ability to effectively communicate and collaborate across team boundaries with subcontractors as well as customers - Experience in developing test plans, test procedures, and test scripts - Experience with testing external interfaces - Experience performing test execution and requirement verification - Active TS/SCI clearance Desired skills - Experience with test automation - Security Authorization and Authentication understanding - Knowledge of Agile methodologies - Geospatial systems experience As a leading technology innovation company, Lockheed Martins team of 113,000 people works with partners around the world to bring proven performance to our customers toughest challenges. Lockheed Martin has employees based in all 50 states and more than 570 facilities that span 70 countries. Join us at Lockheed Martin, where were engineering a better tomorrow. *Lockheed Martin is an Equal Opportunity/Affirmative Action Employer. All qualified applicants will receive consideration for employment without regard to race, color, religion, sex, pregnancy, sexual orientation, gender identity, national origin, age, protected veteran status, or disability status.* Job Location(s): Herndon Pennsylvania, Herndon Virginia',\n",
       "       \"In this position, candidates may participate in the following: Development of integrated program schedules and budgets according to program requirements. Analysis of actual headcount and cost. Development of performance metrics and preparation of related reports. Provide guidance to control account managers. Analyze variances and develop corrective action plans. Assist in the development of review materials for the consumption of internal and Government interfaces. Other ad-hoc cost and performance analyses. Basic Qualifications Bachelor's degree in Finance, Business Administration, Economics, Accounting, or a related field from an accredited university or college. Familiarity with general financial analysis. Desired skills Familiarity with program scheduling concepts; Experience with Earned Value Management; Working knowledge of FAR (Federal Acquisition Requisition); Experience with SAP. Good written and verbal communication skills. Strong interpersonal skills Ability to work in a collaborative and team-based environment. Demonstrates analytical and problem solving skills. Proficiency in Microsoft Office applications. As a leading technology innovation company, Lockheed Martins vast team works with partners around the world to bring proven performance to our customers toughest challenges. Lockheed Martin has employees based in many states throughout the U.S., and Internationally, with business locations in many nations and territories. Join us at Lockheed Martin, where were engineering a better tomorrow. *Lockheed Martin is an Equal Opportunity/Affirmative Action Employer. All qualified applicants will receive consideration for employment without regard to race, color, religion, sex, pregnancy, sexual orientation, gender identity, national origin, age, protected veteran status, or disability status.* Job Location(s): King of Prussia Pennsylvania\",\n",
       "       'This is a business operations analyst position within an IS&GS segment that will align under MST. The role is a business operations analyst role within the C4ISR/Strategic & Tactical Solution Division. This position is a multi-faceted role and one where the candidate must be able to successfully juggle priorities and a variety of responsibilities including but not limited to: Program Finance /Program Controls (EVM) support for a number of Weapons Platform Integration (WPI) programs. Responsibilities may include assisting in the establishment of a program baselines, reviewing monthly OH charges, preparing monthly actual vs budget reports, developing and analyzing program EACs, invoicing, support of program meetings/reviews (e.g. MSR, CSRs and QFR) and program cash planning and tracking Basic Qualifications - Program Finance Experience (E.g. experience preparing EACs, evaluating outlooks and updating forecasts and related Risks and opportunities. - Ability to interpret financial statements and translate data into information - Experience with LM financial processes and tools, strong analytical and presentation skills, excellent verbal and written communication skills. - The ability to extract and analyze data from the ledger and reporting systems (e.g. COMPASS and Horizon) efficiently and effectively. -MARS and/or SWIFT ledger experience Desired skills  SWIFT OH development and management experience  ECP pricing experience  Experience with a variety of contract types  SAP experience As a leading technology innovation company, Lockheed Martins vast team works with partners around the world to bring proven performance to our customers toughest challenges. Lockheed Martin has employees based in many states throughout the U.S., and Internationally, with business locations in many nations and territories. Join us at Lockheed Martin, where were engineering a better tomorrow. *Lockheed Martin is an Equal Opportunity/Affirmative Action Employer. All qualified applicants will receive consideration for employment without regard to race, color, religion, sex, pregnancy, sexual orientation, gender identity, national origin, age, protected veteran status, or disability status.* Job Location(s): King of Prussia Pennsylvania',\n",
       "       'The M2C2 program is looking for an experienced Systems Integration & Test Engineer to support activities related to Tasking Management. Experience with GEOINT Collection Tasking, Processing, Delivery segment and associated test tools strongly desired. The successful candidate will develop test plans, procedures, and automated test scripts to verify the system functional and performance requirements and will support enterprise test activities. The candidate must be able to communicate effectively with the team to work through road blocks to resolve issues quickly. Position requires Active TS/SCI Applicants selected will be subject to a government security investigation and must meet eligibility requirements for access to classified information. Basic Qualifications - Ability to effectively communicate and collaborate across team boundaries with subcontractors as well as customers - Experience in developing test plans, test procedures, and test scripts - Experience with testing external interfaces - Experience performing test execution and requirement verification - Active TS/SCI clearance Desired skills - Experience with test automation - Security Authorization and Authentication understanding - Knowledge of Agile methodologies - Experience with GEOINT domain, MIND/GIMS, as well as TM Ivory tools As a leading technology innovation company, Lockheed Martins vast team works with partners around the world to bring proven performance to our customers toughest challenges. Lockheed Martin has employees based in many states throughout the U.S., and Internationally, with business locations in many nations and territories. Join us at Lockheed Martin, where were engineering a better tomorrow. *Lockheed Martin is an Equal Opportunity/Affirmative Action Employer. All qualified applicants will receive consideration for employment without regard to race, color, religion, sex, pregnancy, sexual orientation, gender identity, national origin, age, protected veteran status, or disability status.* Job Location(s): Herndon Pennsylvania, Herndon Virginia',\n",
       "       'Pricing support for LM Mission Systems and Training / Undersea Systems programs in multiple locations. Candidate must have the ability to work independently and meet hard deadlines, and the ability to work with all levels of the organization. Work closely with Proposal Manager to ensure pricing compliance and efficient proposal preparation; establish and maintain excellent customer relations both internally and externally; develop initiatives to increase profitability and cashflow. Conduct financial analyses of business pursuits to support compilation of business case assessments. Review and analysis of estimates for inclusion in cost proposal; maintain complete and orderly files to ensure an audit-ready posture. Prepare cost proposals that are clear, and compliant with customer requirements. Conduct analyses supporting make/buy decisions and design to cost initiatives while keeping particular account of risk and profitability. Support executive review and approval of proposals (EPP), audit, and negotiation of proposals. Basic Qualifications Familiarity with Government Proposal Process; Cost Proposal Development Ability to multitask and handle large volumes of data. Strong analytical abilities Quick learner Detail oriented Organized Deadline oriented Excel expert; Word, PowerPoint proficient Desired skills Familiarity with current LM Finance and Business Management processes and practices. Familiarity with ProPricer, GenBOE, and SAP Broad-based financial background Knowledge of escalation and learning curves. As a leading technology innovation company, Lockheed Martins vast team works with partners around the world to bring proven performance to our customers toughest challenges. Lockheed Martin has employees based in many states throughout the U.S., and Internationally, with business locations in many nations and territories. Join us at Lockheed Martin, where were engineering a better tomorrow. *Lockheed Martin is an Equal Opportunity/Affirmative Action Employer. All qualified applicants will receive consideration for employment without regard to race, color, religion, sex, pregnancy, sexual orientation, gender identity, national origin, age, protected veteran status, or disability status.* Job Location(s): Manassas Virginia',\n",
       "       'This position supports NAVSEA PEO IWS 5A Test Program of AN/SQQ-89(V) Sonar systems. This Program is responsible for the Surface Sonar Integrated Test.Applicant should have experience in operation of either Surface (A(V)15) or Subsurface (ARCI) systems which may include software/hardware configuration, and troubleshooting of networked equipment, SMPs, and software (Linux and Windows). The ideal applicant will have experience with AN/SQQ-89A(V)15 Sonar equipment including production test,. The primary function of this position testing the performance of AN/SQQ-89(V) equipment. As part of this effort, the position will also be responsible for system identification, configuration, testing, troubleshooting, and system operation. These efforts are in support of AN/SQQ-89A(V)15 equipment employed in US Navy ship combat systems. Experience with NAVSEA and AN/SQQ-89(V) Sonar system equipment, including (V)15, A(V)15, SIPS, and AN/SQS-53C,D is a plus. Experience as STS with ARCI will also be accepted Travel may be required as part of this position. The applicant must be able to obtain and retain a DoD Secret Clearance. Basic Qualifications AN/SQQ-89(V) or ARCI operational and technical experience Perform Test Procedures on Sonar systems Experience operating Analog/Digital Test Equipment Strong interpersonal, written, and oral communication skills Strong technical background including networked hardware, software (Linux and Windows), and troubleshooting Direct customer support/interface experience Strategic mindset Bachelor of Science in Engineering or Computer Science or equivalent experience/combined education Desired skills Significant Linux experience As a leading technology innovation company, Lockheed Martins team of 113,000 people works with partners around the world to bring proven performance to our customers toughest challenges. Lockheed Martin has employees based in all 50 states and more than 570 facilities that span 70 countries. Join us at Lockheed Martin, where were engineering a better tomorrow. *Lockheed Martin is an Equal Opportunity/Affirmative Action Employer. All qualified applicants will receive consideration for employment without regard to race, color, religion, sex, national origin, age, protected veteran status, or disability status.* Job Location(s): Manassas Virginia',\n",
       "       'Pricing support for LM Mission Systems and Training / Undersea Systems programs in multiple locations. Candidate must have the ability to work with minimal oversight and meet hard deadlines, and the ability to work with all levels of the organization. Work closely with Proposal Manager to ensure pricing compliance and efficient proposal preparation; establish and maintain excellent customer relations both internally and externally; develop initiatives to increase profitability and cashflow. Conduct financial analyses of business pursuits to support compilation of business case assessments. Review and analysis of estimates for inclusion in cost proposal; maintain complete and orderly files to ensure an audit-ready posture. Prepare cost proposals that are clear, and compliant with customer requirements. Conduct analyses supporting make/buy decisions and design to cost initiatives while keeping particular account of risk and profitability. Support executive review and approval of proposals (EPP), audit, and negotiation of proposals. Basic Qualifications Familiarity with Government Proposal Process; Cost Proposal Development Ability to multitask and handle large volumes of data. Strong analytical abilities Quick learner Detail oriented Organized Deadline oriented Excel expert; Word, PowerPoint proficient Desired skills Familiarity with current LM Finance and Business Management processes and practices. Familiarity with ProPricer, GenBOE, and SAP Broad-based financial background Knowledge of escalation and learning curves. As a leading technology innovation company, Lockheed Martins vast team works with partners around the world to bring proven performance to our customers toughest challenges. Lockheed Martin has employees based in many states throughout the U.S., and Internationally, with business locations in many nations and territories. Join us at Lockheed Martin, where were engineering a better tomorrow. *Lockheed Martin is an Equal Opportunity/Affirmative Action Employer. All qualified applicants will receive consideration for employment without regard to race, color, religion, sex, pregnancy, sexual orientation, gender identity, national origin, age, protected veteran status, or disability status.* Job Location(s): Manassas Virginia',\n",
       "       'About LM: Lockheed Martins Defense and Intelligence Solutions (D&IS) delivers advanced systems, solutions and services to Department of Defense, Intelligence Community, and international customers worldwide. D&IS focus areas include cyber solutions, satellite ground operations, C4ISR, geospatial solutions, enterprise IT, critical infrastructure management, situational awareness, and advanced analytics. D&IS has 15,000 employees with significant U.S. operations as well as overseas operations. About the program area: Analysis & Mission Solutions delivers the mission-critical information technology systems that help power the Intelligence Community. We specialize in enterprise-level information technology for classified agencies, including secure network management, enterprise architecture and IT infrastructure management. Our mission solutions deliver timely, relevant, and actionable information to U.S. intelligence communities. About the job: The eXploit program will develop a new, online data service for the federal government, replacing over 40 legacy systems with one cloud-based solution. Development will utilize Agile methodologies found in the Scaled Agile Framework Environment (SAFe). Award of the program is anticipated in the third quarter of 2015, but this position will be filled prior to award in order to ensure a successful start-up. The Quality Engineer will work directly with the Government Product Owner and the LM Scrum Master to document the Feature and Story acceptance criteria, monitor the execution, and work with the Product Owner for acceptance of completed user stories and features. The Quality Engineer will serve as an independent advocate for customer quality goals to ensure that the team is delivering working software that is accepted by the government. The Quality Engineer will collaborate with the Scrum Master to facilitate retrospectives where the process and corrective actions will be assessed. The Quality Engineer will establish structured systems for controlling and monitoring adherence to the established standards and will identify adverse trends and report to management. The Quality Engineer will ensure subcontractors ability to deliver goods or services that conform to Lockheed Martins requirements and standards. The following are the primary responsibilities of the Quality Engineer:  Customer Quality: Work directly with the customers Product Owner staff to facilitate their in-process reviews of development efforts. Monitor program performance measures, including discrepancy reports (DRs) to ensure closure. Participate in end-of-sprint demos to ensure completion and customer satisfaction. Maintain performance metrics to monitor development progress and anticipate potential issues for management attention.  Process Improvement: Identify program areas that need improvement. Facilitate structured improvement activities (SIAs) with program personnel to improve program operations. Maintain the Program Excellence Plan (PEP) for the program. Keep the PEP up to date throughout the lifecycle of each program.  Program Compliance: Ensure program compliance with customer and Lockheed requirements. Maintain the Program Process Baseline (PPB). Develop an annual audit plan that aligns with the program agile business rhythms to verify successful execution of requirements and compliance with corporate policies. Conduct program audits of systems and software processes to verify compliance. Ensure programs are able to successfully pass ISO 9001 audits.  Applicant selected will be subject to a government security investigation and must meet eligibility requirements for access to classified information.  Applicants must be able to report to work within three weeks of accepting the offer of employment Basic Qualifications Demonstrated experience in each of the following fields:  Agile development using the Scaled Agile Framework Environment (SAFe).  Software development and web service development  Defining program metrics that support customer and corporate objectives  Performance metrics collection and trend analysis  Leading process improvement activities  Conducting quality assurance of systems and software processes  Experience with project budget, finance and control (ie. Control Account Management (CAM))  Creating and maintaining program documentation such as Program Management Plans (PMP), Quantitative Management Plans (QMP), Quality Assurance Plans (QAP), etc.  Experience on government contracts whose scope encompasses system or software engineering.  Strong writing, analytical, and communication skills. Desired skills Experience working with NGA processes and its implementation of SAFe.  Experience working directly with customer Quality Assurance personnel.  Experience supporting risk and opportunity management boards (ROMB).  Experience in software testing, systems administration or software development. This will enhance the applicants understanding of program operations and ability to identify process improvements.  Experience maintaining a program excellence plan (PEP).  Apollo Root Cause Analysis or equivalent training  Knowledge of Capability Maturity Model Integrated for Development (CMMI-DEV) and ISO 9001.  LM21 Green or Black Belt certification.  Experience supporting program captures and business development.  Experience with independent program reviews such as Baseline Review (BR), Independent Non-Advocate Review (INAR), Joint Surveillance Review (JSR).  Experience supporting the Intelligence Community.  Experience working in the Geospatial-Intelligence Domain As a leading technology innovation company, Lockheed Martins team of 113,000 people works with partners around the world to bring proven performance to our customers toughest challenges. Headquartered in Bethesda, Maryland, Lockheed Martin has employees based in all 50 states and more than 570 facilities that span 70 countries. Join us at Lockheed Martin, where were engineering a better tomorrow. *Lockheed Martin is an Equal Opportunity/Affirmative Action Employer. All qualified applicants will receive consideration for employment without regard to race, color, religion, sex, national origin, age, protected veteran status, or disability status.* Job Location(s): City(s): Gaithersburg, Herndon State(s): Maryland'],\n",
       "      dtype=object)"
      ]
     },
     "execution_count": 17,
     "metadata": {},
     "output_type": "execute_result"
    }
   ],
   "source": [
    "corpus[:10]"
   ]
  },
  {
   "cell_type": "markdown",
   "metadata": {},
   "source": [
    "Lets work on creating the topics out of these large documents."
   ]
  },
  {
   "cell_type": "code",
   "execution_count": 42,
   "metadata": {},
   "outputs": [],
   "source": [
    "def create_topics(tfidf, features, N_TOPICS=3, N_TOP_WORDS=5,):\n",
    "    \"\"\"\n",
    "    Given a matrix of features of text data generate topics\n",
    "    \n",
    "    Parameters\n",
    "    -----------\n",
    "    tfidf: scipy sparse matrix\n",
    "        sparse matrix of text features\n",
    "    N_TOPICS: int\n",
    "        number of topics (default 10)\n",
    "    N_TOP_WORDS: int\n",
    "        number of top words to display in each topic (default 10)\n",
    "        \n",
    "    Returns\n",
    "    -------\n",
    "    ls_keywords: ls\n",
    "        list of keywords for each topics\n",
    "    doctopic: array\n",
    "        numpy array with percentages of topic that fit each category\n",
    "    N_TOPICS: int\n",
    "        number of assumed topics\n",
    "    N_TOP_WORDS: int\n",
    "        Number of top words in a given topic. \n",
    "    \"\"\"\n",
    "    \n",
    "    lda = LatentDirichletAllocation(n_topics=N_TOPICS, learning_method='online')\n",
    "\n",
    "    #bar.update(i)\n",
    "    #i += 1\n",
    "    doctopic = lda.fit_transform(tfidf)\n",
    "    #bar.update(i)\n",
    "    #i+=1\n",
    "\n",
    "    ls_keywords = []\n",
    "\n",
    "    for i, topic in enumerate(lda.components_):\n",
    "        word_idx = np.argsort(topic)[::-1][:N_TOP_WORDS]\n",
    "        keywords = \", \".join(features[i] for i in word_idx)\n",
    "        ls_keywords.append(keywords)\n",
    "        print(i,keywords)\n",
    "        #bar.update(i)\n",
    "        #i+=1\n",
    "    return ls_keywords, doctopic\n",
    "            "
   ]
  },
  {
   "cell_type": "code",
   "execution_count": 29,
   "metadata": {},
   "outputs": [],
   "source": [
    "corpus_bow, corpus_features = create_bow(corpus)"
   ]
  },
  {
   "cell_type": "markdown",
   "metadata": {},
   "source": [
    "Lets look at the top 10 features of the corpus"
   ]
  },
  {
   "cell_type": "code",
   "execution_count": 20,
   "metadata": {},
   "outputs": [
    {
     "data": {
      "text/plain": [
       "['00', '000', '10', '100', '11', '12', '15', '20', '2015', '25']"
      ]
     },
     "execution_count": 20,
     "metadata": {},
     "output_type": "execute_result"
    }
   ],
   "source": [
    "corpus_features[:10]"
   ]
  },
  {
   "cell_type": "markdown",
   "metadata": {},
   "source": [
    "This looks really bad! Those arent even meaningfull words. Lets look at the count of words."
   ]
  },
  {
   "cell_type": "code",
   "execution_count": 21,
   "metadata": {},
   "outputs": [
    {
     "data": {
      "text/plain": [
       "[('and', 72036),\n",
       " ('to', 36758),\n",
       " ('the', 34940),\n",
       " ('of', 31793),\n",
       " ('in', 23879),\n",
       " ('with', 16877),\n",
       " ('for', 15605),\n",
       " ('or', 13556),\n",
       " ('experience', 11108),\n",
       " ('is', 10153)]"
      ]
     },
     "execution_count": 21,
     "metadata": {},
     "output_type": "execute_result"
    }
   ],
   "source": [
    "list(word_counts(corpus_bow, corpus_features).items())[:10] #printing top 10"
   ]
  },
  {
   "cell_type": "markdown",
   "metadata": {},
   "source": [
    "A lot of words above are prepositions and articles that dont really have any semantic meaning."
   ]
  },
  {
   "cell_type": "code",
   "execution_count": 43,
   "metadata": {},
   "outputs": [
    {
     "name": "stderr",
     "output_type": "stream",
     "text": [
      "C:\\Users\\vinee\\Anaconda2\\envs\\python3\\lib\\site-packages\\sklearn\\decomposition\\online_lda.py:294: DeprecationWarning: n_topics has been renamed to n_components in version 0.19 and will be removed in 0.21\n",
      "  DeprecationWarning)\n"
     ]
    },
    {
     "name": "stdout",
     "output_type": "stream",
     "text": [
      "0 de, en, la, con, el\n",
      "1 and, to, the, of, in\n",
      "2 and, to, the, of, in\n"
     ]
    }
   ],
   "source": [
    "ls_keywords, ls_doctopic = create_topics(corpus_bow, corpus_features)"
   ]
  },
  {
   "cell_type": "markdown",
   "metadata": {},
   "source": [
    "Looking at the above topics, we are not getting a proper answer from these except that some of the text is in Spanish. We need to clean this data. We will using regular expressions to remove the punctuations."
   ]
  },
  {
   "cell_type": "code",
   "execution_count": 47,
   "metadata": {},
   "outputs": [],
   "source": [
    "REGEX_THAT = r'\\W+|\\d+'\n",
    "\n",
    "processed_corpus = np.array([re.sub(REGEX_THAT, \" \", comment).lower() for comment in corpus])"
   ]
  },
  {
   "cell_type": "code",
   "execution_count": 48,
   "metadata": {},
   "outputs": [
    {
     "data": {
      "text/plain": [
       "\"The successful candidate will maintain and develop electronic production and development test solutions. Provide hands on hardware/software troubleshooting and upgrade support for existing production test stations in a real time environment. Participate in the design, build, integration and validation of automated and manual test equipment. Interpret and understand test requirements, develop/modify test procedures, test reports and other test related documentation. Must be able to interface with the customer during planned meetings and support required presentations. The successful candidate will also have the ability and willingness to on occasion support our Product Support group in maintaining, troubleshooting and servicing electronic fielded equipment. Participate in the integration, installation and validation of fielded equipment. Interpret and understand repair procedures and other repair related documentation. Must be able to interface with the customer during field service trips and internal status meetings. This requires the ability to travel at a moment's notice for 1-2 weeks at a time. Basic Qualifications Ability to function as self-starter. Strong written and oral communication skills. Understanding of engineering fundamentals. test procedure and script development and execution at the system level. Familiarity with test requirement identification/evaluation. Ability to perform effectively in a team environment, interacting with test engineering, test conductors, quality, and production supervisors. A desire to gain direct hands-on hardware/software test experience with automated test systems integration, collecting test data, test analysis, troubleshooting, and anomaly resolution. Ability and willingness to travel frequently. Ability to obtain a secret security clearance. Bachelors degree from an accredited college in a related discipline, or equivalent experience/combined education. Desired skills Knowledge of LabView programming or Pro Engineering with the ability and desire to become proficient. An understanding of schematic development, hands on assembly, software development, integration and troubleshooting. Ability and desire to gain hands on experience with automated test systems including analog, digital and optical test equipment. Familiarity with the MFC-Archbald products would be a benefit. As a leading technology innovation company, Lockheed Martins vast team works with partners around the world to bring proven performance to our customers toughest challenges. Lockheed Martin has employees based in many states throughout the U.S., and Internationally, with business locations in many nations and territories. Join us at Lockheed Martin, where were engineering a better tomorrow. *Lockheed Martin is an Equal Opportunity/Affirmative Action Employer. All qualified applicants will receive consideration for employment without regard to race, color, religion, sex, pregnancy, sexual orientation, gender identity, national origin, age, protected veteran status, or disability status.* Job Location(s): Archbald Pennsylvania\""
      ]
     },
     "execution_count": 48,
     "metadata": {},
     "output_type": "execute_result"
    }
   ],
   "source": [
    "corpus[1]"
   ]
  },
  {
   "cell_type": "code",
   "execution_count": 49,
   "metadata": {},
   "outputs": [
    {
     "data": {
      "text/plain": [
       "'the successful candidate will maintain and develop electronic production and development test solutions provide hands on hardware software troubleshooting and upgrade support for existing production test stations in a real time environment participate in the design build integration and validation of automated and manual test equipment interpret and understand test requirements develop modify test procedures test reports and other test related documentation must be able to interface with the customer during planned meetings and support required presentations the successful candidate will also have the ability and willingness to on occasion support our product support group in maintaining troubleshooting and servicing electronic fielded equipment participate in the integration installation and validation of fielded equipment interpret and understand repair procedures and other repair related documentation must be able to interface with the customer during field service trips and internal status meetings this requires the ability to travel at a moment s notice for     weeks at a time basic qualifications ability to function as self starter strong written and oral communication skills understanding of engineering fundamentals test procedure and script development and execution at the system level familiarity with test requirement identification evaluation ability to perform effectively in a team environment interacting with test engineering test conductors quality and production supervisors a desire to gain direct hands on hardware software test experience with automated test systems integration collecting test data test analysis troubleshooting and anomaly resolution ability and willingness to travel frequently ability to obtain a secret security clearance bachelors degree from an accredited college in a related discipline or equivalent experience combined education desired skills knowledge of labview programming or pro engineering with the ability and desire to become proficient an understanding of schematic development hands on assembly software development integration and troubleshooting ability and desire to gain hands on experience with automated test systems including analog digital and optical test equipment familiarity with the mfc archbald products would be a benefit as a leading technology innovation company lockheed martins vast team works with partners around the world to bring proven performance to our customers toughest challenges lockheed martin has employees based in many states throughout the u s and internationally with business locations in many nations and territories join us at lockheed martin where were engineering a better tomorrow lockheed martin is an equal opportunity affirmative action employer all qualified applicants will receive consideration for employment without regard to race color religion sex pregnancy sexual orientation gender identity national origin age protected veteran status or disability status job location s archbald pennsylvania'"
      ]
     },
     "execution_count": 49,
     "metadata": {},
     "output_type": "execute_result"
    }
   ],
   "source": [
    "processed_corpus[1]"
   ]
  },
  {
   "cell_type": "code",
   "execution_count": null,
   "metadata": {},
   "outputs": [],
   "source": []
  }
 ],
 "metadata": {
  "kernelspec": {
   "display_name": "Python 3",
   "language": "python",
   "name": "python3"
  },
  "language_info": {
   "codemirror_mode": {
    "name": "ipython",
    "version": 3
   },
   "file_extension": ".py",
   "mimetype": "text/x-python",
   "name": "python",
   "nbconvert_exporter": "python",
   "pygments_lexer": "ipython3",
   "version": "3.5.5"
  }
 },
 "nbformat": 4,
 "nbformat_minor": 2
}
