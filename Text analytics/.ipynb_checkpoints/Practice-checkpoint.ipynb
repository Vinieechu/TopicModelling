{
 "cells": [
  {
   "cell_type": "code",
   "execution_count": 7,
   "metadata": {},
   "outputs": [
    {
     "name": "stdout",
     "output_type": "stream",
     "text": [
      "Populating the interactive namespace from numpy and matplotlib\n",
      "[nltk_data] Downloading package stopwords to\n",
      "[nltk_data]     C:\\Users\\vinee\\AppData\\Roaming\\nltk_data...\n",
      "[nltk_data]   Package stopwords is already up-to-date!\n"
     ]
    },
    {
     "data": {
      "text/plain": [
       "True"
      ]
     },
     "execution_count": 7,
     "metadata": {},
     "output_type": "execute_result"
    }
   ],
   "source": [
    "%pylab inline \n",
    "import nltk\n",
    "import ujson\n",
    "import re\n",
    "import time\n",
    "import progressbar\n",
    "\n",
    "import pandas as pd\n",
    "from __future__ import print_function\n",
    "from six.moves import zip, range \n",
    "\n",
    "from sklearn.feature_extraction.text import CountVectorizer, TfidfTransformer\n",
    "from sklearn.decomposition import LatentDirichletAllocation\n",
    "from sklearn.linear_model import LogisticRegression\n",
    "from sklearn.metrics import precision_recall_curve, roc_auc_score, auc\n",
    "from sklearn import preprocessing\n",
    "from collections import Counter, OrderedDict\n",
    "from nltk.corpus import stopwords\n",
    "from nltk import PorterStemmer\n",
    "\n",
    "nltk.download('stopwords') #download the latest stopwords"
   ]
  },
  {
   "cell_type": "code",
   "execution_count": 8,
   "metadata": {},
   "outputs": [],
   "source": [
    "df = pd.read_csv(\"jobs_subset.csv\")"
   ]
  },
  {
   "cell_type": "code",
   "execution_count": 9,
   "metadata": {},
   "outputs": [
    {
     "data": {
      "text/html": [
       "<div>\n",
       "<style scoped>\n",
       "    .dataframe tbody tr th:only-of-type {\n",
       "        vertical-align: middle;\n",
       "    }\n",
       "\n",
       "    .dataframe tbody tr th {\n",
       "        vertical-align: top;\n",
       "    }\n",
       "\n",
       "    .dataframe thead th {\n",
       "        text-align: right;\n",
       "    }\n",
       "</style>\n",
       "<table border=\"1\" class=\"dataframe\">\n",
       "  <thead>\n",
       "    <tr style=\"text-align: right;\">\n",
       "      <th></th>\n",
       "      <th>normalizedTitle_onetName</th>\n",
       "      <th>normalizedTitle_onetCode</th>\n",
       "      <th>jobDescription</th>\n",
       "      <th>title</th>\n",
       "    </tr>\n",
       "  </thead>\n",
       "  <tbody>\n",
       "    <tr>\n",
       "      <th>0</th>\n",
       "      <td>Lawyers</td>\n",
       "      <td>23-1011.00</td>\n",
       "      <td>This position is in support of the United Stat...</td>\n",
       "      <td>Paralegal (Buffalo, NY)</td>\n",
       "    </tr>\n",
       "    <tr>\n",
       "      <th>1</th>\n",
       "      <td>Software Quality Assurance Engineers and Testers</td>\n",
       "      <td>15-1199.01</td>\n",
       "      <td>The successful candidate will maintain and dev...</td>\n",
       "      <td>System Integration / Test Engineer</td>\n",
       "    </tr>\n",
       "    <tr>\n",
       "      <th>2</th>\n",
       "      <td>Software Quality Assurance Engineers and Testers</td>\n",
       "      <td>15-1199.01</td>\n",
       "      <td>This position is a Senior System Integration &amp;...</td>\n",
       "      <td>System Integration / Test Engineer Staff</td>\n",
       "    </tr>\n",
       "    <tr>\n",
       "      <th>3</th>\n",
       "      <td>Software Quality Assurance Engineers and Testers</td>\n",
       "      <td>15-1199.01</td>\n",
       "      <td>In this position, candidates may participate i...</td>\n",
       "      <td>Mult Func Fin Analyst</td>\n",
       "    </tr>\n",
       "    <tr>\n",
       "      <th>4</th>\n",
       "      <td>Software Quality Assurance Engineers and Testers</td>\n",
       "      <td>15-1199.01</td>\n",
       "      <td>This is a business operations analyst position...</td>\n",
       "      <td>Mult Func Fin Analyst</td>\n",
       "    </tr>\n",
       "  </tbody>\n",
       "</table>\n",
       "</div>"
      ],
      "text/plain": [
       "                           normalizedTitle_onetName normalizedTitle_onetCode  \\\n",
       "0                                           Lawyers               23-1011.00   \n",
       "1  Software Quality Assurance Engineers and Testers               15-1199.01   \n",
       "2  Software Quality Assurance Engineers and Testers               15-1199.01   \n",
       "3  Software Quality Assurance Engineers and Testers               15-1199.01   \n",
       "4  Software Quality Assurance Engineers and Testers               15-1199.01   \n",
       "\n",
       "                                      jobDescription  \\\n",
       "0  This position is in support of the United Stat...   \n",
       "1  The successful candidate will maintain and dev...   \n",
       "2  This position is a Senior System Integration &...   \n",
       "3  In this position, candidates may participate i...   \n",
       "4  This is a business operations analyst position...   \n",
       "\n",
       "                                      title  \n",
       "0                   Paralegal (Buffalo, NY)  \n",
       "1        System Integration / Test Engineer  \n",
       "2  System Integration / Test Engineer Staff  \n",
       "3                     Mult Func Fin Analyst  \n",
       "4                     Mult Func Fin Analyst  "
      ]
     },
     "execution_count": 9,
     "metadata": {},
     "output_type": "execute_result"
    }
   ],
   "source": [
    "df.head()"
   ]
  },
  {
   "cell_type": "code",
   "execution_count": 13,
   "metadata": {},
   "outputs": [
    {
     "data": {
      "text/plain": [
       "array(['Lawyers', 'Software Quality Assurance Engineers and Testers',\n",
       "       'Graduate Teaching Assistants', 'Financial Examiners',\n",
       "       'Credit Analysts'], dtype=object)"
      ]
     },
     "execution_count": 13,
     "metadata": {},
     "output_type": "execute_result"
    }
   ],
   "source": [
    "df['normalizedTitle_onetName'].value_counts()"
   ]
  },
  {
   "cell_type": "code",
   "execution_count": 16,
   "metadata": {},
   "outputs": [
    {
     "data": {
      "text/plain": [
       "(2496,)"
      ]
     },
     "execution_count": 16,
     "metadata": {},
     "output_type": "execute_result"
    }
   ],
   "source": [
    "df['title'].unique().shape"
   ]
  },
  {
   "cell_type": "code",
   "execution_count": 65,
   "metadata": {},
   "outputs": [],
   "source": [
    "def create_bag_of_words(corpus, NGRAM_RANGE = (0,1), stop_words = None, stem= False, MIN_DF = 0.5, MAX_DF = 0.95, USE_IDF = False):\n",
    "    \n",
    "    ANALYZER = 'word'\n",
    "    STRIP_ACCENTS = 'unicode'\n",
    "    \n",
    "    if stem:\n",
    "        tokenize = lambda x: [stemmer.stem(i) for i in x.split()]\n",
    "    else:\n",
    "        tokenize = None\n",
    "    vectorizer = CountVectorizer(analyzer = ANALYZER, tokenizer = tokenize, ngram_range=NGRAM_RANGE, stop_words=stop_words, max_df = MAX_DF, min_df = MIN_DF, strip_accents=STRIP_ACCENTS)\n",
    "    bag_of_words = vectorizer.fit_transform(corpus)\n",
    "    features = vectorizer.get_feature_names()\n",
    "    \n",
    "    if USE_IDF:\n",
    "        NORM = None\n",
    "        SMOOTH_IDF = True\n",
    "        SUBLINEAR_IDF = True\n",
    "        transformer = TfidfTransformer(norm = NORM, use_idf = USE_IDF, smooth_idf = SMOOTH_IDF, sublinear_tf=True)\n",
    "        tfidf = transformer.fit_transform(bag_of_words)\n",
    "        features = tfidf.get_feature_names()\n",
    "        return tfidf, features\n",
    "    else:\n",
    "        return bag_of_words, features\n",
    "        "
   ]
  },
  {
   "cell_type": "code",
   "execution_count": 66,
   "metadata": {},
   "outputs": [],
   "source": [
    "test_words = ['this is the shit', 'I am tryna put you in a worst mood', 'P-1 cleaner than your church shooes', \"I am a starboy\"]"
   ]
  },
  {
   "cell_type": "code",
   "execution_count": 67,
   "metadata": {},
   "outputs": [],
   "source": [
    "test_bag_of_words, test_features = create_bag_of_words(test_words)"
   ]
  },
  {
   "cell_type": "code",
   "execution_count": 68,
   "metadata": {},
   "outputs": [
    {
     "data": {
      "text/plain": [
       "array([[0],\n",
       "       [1],\n",
       "       [0],\n",
       "       [1]], dtype=int64)"
      ]
     },
     "execution_count": 68,
     "metadata": {},
     "output_type": "execute_result"
    }
   ],
   "source": [
    "np_test_bag_of_words = test_bag_of_words.toarray()\n",
    "np_test_bag_of_words"
   ]
  },
  {
   "cell_type": "code",
   "execution_count": 69,
   "metadata": {},
   "outputs": [
    {
     "data": {
      "text/plain": [
       "['am']"
      ]
     },
     "execution_count": 69,
     "metadata": {},
     "output_type": "execute_result"
    }
   ],
   "source": [
    "test_features"
   ]
  },
  {
   "cell_type": "code",
   "execution_count": 70,
   "metadata": {},
   "outputs": [],
   "source": [
    "toy_corpus = ['this is document one', 'this is document two', 'text analysis on documents is fun']"
   ]
  },
  {
   "cell_type": "code",
   "execution_count": 71,
   "metadata": {},
   "outputs": [],
   "source": [
    "toy_bag_of_words, toy_features = create_bag_of_words(toy_corpus)"
   ]
  },
  {
   "cell_type": "code",
   "execution_count": 72,
   "metadata": {},
   "outputs": [
    {
     "data": {
      "text/plain": [
       "array([[1, 1],\n",
       "       [1, 1],\n",
       "       [0, 0]], dtype=int64)"
      ]
     },
     "execution_count": 72,
     "metadata": {},
     "output_type": "execute_result"
    }
   ],
   "source": [
    "np_bag_of_words = toy_bag_of_words.toarray()\n",
    "np_bag_of_words"
   ]
  },
  {
   "cell_type": "code",
   "execution_count": null,
   "metadata": {},
   "outputs": [],
   "source": []
  }
 ],
 "metadata": {
  "kernelspec": {
   "display_name": "Python 3",
   "language": "python",
   "name": "python3"
  },
  "language_info": {
   "codemirror_mode": {
    "name": "ipython",
    "version": 3
   },
   "file_extension": ".py",
   "mimetype": "text/x-python",
   "name": "python",
   "nbconvert_exporter": "python",
   "pygments_lexer": "ipython3",
   "version": "3.6.4"
  }
 },
 "nbformat": 4,
 "nbformat_minor": 2
}
